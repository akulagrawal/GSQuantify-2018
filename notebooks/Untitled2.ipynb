{
 "cells": [
  {
   "cell_type": "code",
   "execution_count": 106,
   "metadata": {},
   "outputs": [],
   "source": [
    "import pandas as pd\n",
    "import numpy as np"
   ]
  },
  {
   "cell_type": "code",
   "execution_count": 107,
   "metadata": {},
   "outputs": [],
   "source": [
    "df = pd.read_csv('private_test_x.csv')"
   ]
  },
  {
   "cell_type": "code",
   "execution_count": 108,
   "metadata": {},
   "outputs": [
    {
     "data": {
      "text/html": [
       "<div>\n",
       "<style scoped>\n",
       "    .dataframe tbody tr th:only-of-type {\n",
       "        vertical-align: middle;\n",
       "    }\n",
       "\n",
       "    .dataframe tbody tr th {\n",
       "        vertical-align: top;\n",
       "    }\n",
       "\n",
       "    .dataframe thead th {\n",
       "        text-align: right;\n",
       "    }\n",
       "</style>\n",
       "<table border=\"1\" class=\"dataframe\">\n",
       "  <thead>\n",
       "    <tr style=\"text-align: right;\">\n",
       "      <th></th>\n",
       "      <th>Usage</th>\n",
       "      <th>Timestep</th>\n",
       "      <th>InventoryCode</th>\n",
       "      <th>Domain</th>\n",
       "    </tr>\n",
       "  </thead>\n",
       "  <tbody>\n",
       "    <tr>\n",
       "      <th>0</th>\n",
       "      <td>78</td>\n",
       "      <td>1</td>\n",
       "      <td>0</td>\n",
       "      <td>B</td>\n",
       "    </tr>\n",
       "    <tr>\n",
       "      <th>1</th>\n",
       "      <td>78</td>\n",
       "      <td>2</td>\n",
       "      <td>0</td>\n",
       "      <td>B</td>\n",
       "    </tr>\n",
       "    <tr>\n",
       "      <th>2</th>\n",
       "      <td>78</td>\n",
       "      <td>3</td>\n",
       "      <td>0</td>\n",
       "      <td>B</td>\n",
       "    </tr>\n",
       "    <tr>\n",
       "      <th>3</th>\n",
       "      <td>78</td>\n",
       "      <td>4</td>\n",
       "      <td>0</td>\n",
       "      <td>B</td>\n",
       "    </tr>\n",
       "    <tr>\n",
       "      <th>4</th>\n",
       "      <td>78</td>\n",
       "      <td>5</td>\n",
       "      <td>0</td>\n",
       "      <td>B</td>\n",
       "    </tr>\n",
       "  </tbody>\n",
       "</table>\n",
       "</div>"
      ],
      "text/plain": [
       "   Usage  Timestep  InventoryCode Domain\n",
       "0     78         1              0      B\n",
       "1     78         2              0      B\n",
       "2     78         3              0      B\n",
       "3     78         4              0      B\n",
       "4     78         5              0      B"
      ]
     },
     "execution_count": 108,
     "metadata": {},
     "output_type": "execute_result"
    }
   ],
   "source": [
    "df.head()"
   ]
  },
  {
   "cell_type": "code",
   "execution_count": 109,
   "metadata": {},
   "outputs": [],
   "source": [
    "domA = pd.DataFrame(df.loc[df['Domain'] == 'A'])\n",
    "domB = pd.DataFrame(df.loc[df['Domain'] == 'B'])\n",
    "domCi = pd.DataFrame(df.loc[df['Domain'] == 'C[i]'])\n",
    "domCii = pd.DataFrame(df.loc[df['Domain'] == 'C[ii]'])"
   ]
  },
  {
   "cell_type": "code",
   "execution_count": 110,
   "metadata": {},
   "outputs": [],
   "source": [
    "sol = pd.DataFrame(columns=df.columns)"
   ]
  },
  {
   "cell_type": "code",
   "execution_count": 111,
   "metadata": {},
   "outputs": [
    {
     "name": "stdout",
     "output_type": "stream",
     "text": [
      "Empty DataFrame\n",
      "Columns: [Usage, Timestep, InventoryCode, Domain]\n",
      "Index: []\n"
     ]
    }
   ],
   "source": [
    "print(sol)    "
   ]
  },
  {
   "cell_type": "code",
   "execution_count": null,
   "metadata": {},
   "outputs": [],
   "source": []
  },
  {
   "cell_type": "code",
   "execution_count": 112,
   "metadata": {},
   "outputs": [
    {
     "name": "stderr",
     "output_type": "stream",
     "text": [
      "/home/akul/.local/lib/python3.5/site-packages/ipykernel_launcher.py:3: SettingWithCopyWarning: \n",
      "A value is trying to be set on a copy of a slice from a DataFrame.\n",
      "Try using .loc[row_indexer,col_indexer] = value instead\n",
      "\n",
      "See the caveats in the documentation: http://pandas.pydata.org/pandas-docs/stable/indexing.html#indexing-view-versus-copy\n",
      "  This is separate from the ipykernel package so we can avoid doing imports until\n",
      "/home/akul/.local/lib/python3.5/site-packages/ipykernel_launcher.py:4: SettingWithCopyWarning: \n",
      "A value is trying to be set on a copy of a slice from a DataFrame.\n",
      "Try using .loc[row_indexer,col_indexer] = value instead\n",
      "\n",
      "See the caveats in the documentation: http://pandas.pydata.org/pandas-docs/stable/indexing.html#indexing-view-versus-copy\n",
      "  after removing the cwd from sys.path.\n"
     ]
    }
   ],
   "source": [
    "for i in range(0,50):\n",
    "    temp = domB.iloc[i*75:(i+1)*75]\n",
    "    temp['Usage'] = int(np.mean(temp['Usage']))\n",
    "    temp['Timestep'] -= 19*i\n",
    "    sol = sol.append(temp.iloc[i*19:(i+1)*19])"
   ]
  },
  {
   "cell_type": "code",
   "execution_count": 113,
   "metadata": {
    "scrolled": true
   },
   "outputs": [
    {
     "name": "stdout",
     "output_type": "stream",
     "text": [
      "    Usage Timestep InventoryCode Domain\n",
      "0      55        1             0      B\n",
      "1      55        2             0      B\n",
      "2      55        3             0      B\n",
      "3      55        4             0      B\n",
      "4      55        5             0      B\n",
      "5      55        6             0      B\n",
      "6      55        7             0      B\n",
      "7      55        8             0      B\n",
      "8      55        9             0      B\n",
      "9      55       10             0      B\n",
      "10     55       11             0      B\n",
      "11     55       12             0      B\n",
      "12     55       13             0      B\n",
      "13     55       14             0      B\n",
      "14     55       15             0      B\n",
      "15     55       16             0      B\n",
      "16     55       17             0      B\n",
      "17     55       18             0      B\n",
      "18     55       19             0      B\n",
      "94     38        1             1      B\n",
      "95     38        2             1      B\n",
      "96     38        3             1      B\n",
      "97     38        4             1      B\n",
      "98     38        5             1      B\n",
      "99     38        6             1      B\n",
      "100    38        7             1      B\n",
      "101    38        8             1      B\n",
      "102    38        9             1      B\n",
      "103    38       10             1      B\n",
      "104    38       11             1      B\n",
      "..    ...      ...           ...    ...\n",
      "195    60        8             2      B\n",
      "196    60        9             2      B\n",
      "197    60       10             2      B\n",
      "198    60       11             2      B\n",
      "199    60       12             2      B\n",
      "200    60       13             2      B\n",
      "201    60       14             2      B\n",
      "202    60       15             2      B\n",
      "203    60       16             2      B\n",
      "204    60       17             2      B\n",
      "205    60       18             2      B\n",
      "206    60       19             2      B\n",
      "282    16        1             3      B\n",
      "283    16        2             3      B\n",
      "284    16        3             3      B\n",
      "285    16        4             3      B\n",
      "286    16        5             3      B\n",
      "287    16        6             3      B\n",
      "288    16        7             3      B\n",
      "289    16        8             3      B\n",
      "290    16        9             3      B\n",
      "291    16       10             3      B\n",
      "292    16       11             3      B\n",
      "293    16       12             3      B\n",
      "294    16       13             3      B\n",
      "295    16       14             3      B\n",
      "296    16       15             3      B\n",
      "297    16       16             3      B\n",
      "298    16       17             3      B\n",
      "299    16       18             3      B\n",
      "\n",
      "[75 rows x 4 columns]\n"
     ]
    }
   ],
   "source": [
    "print(sol)"
   ]
  },
  {
   "cell_type": "code",
   "execution_count": 114,
   "metadata": {},
   "outputs": [
    {
     "name": "stderr",
     "output_type": "stream",
     "text": [
      "/home/akul/.local/lib/python3.5/site-packages/ipykernel_launcher.py:3: SettingWithCopyWarning: \n",
      "A value is trying to be set on a copy of a slice from a DataFrame.\n",
      "Try using .loc[row_indexer,col_indexer] = value instead\n",
      "\n",
      "See the caveats in the documentation: http://pandas.pydata.org/pandas-docs/stable/indexing.html#indexing-view-versus-copy\n",
      "  This is separate from the ipykernel package so we can avoid doing imports until\n",
      "/home/akul/.local/lib/python3.5/site-packages/ipykernel_launcher.py:4: SettingWithCopyWarning: \n",
      "A value is trying to be set on a copy of a slice from a DataFrame.\n",
      "Try using .loc[row_indexer,col_indexer] = value instead\n",
      "\n",
      "See the caveats in the documentation: http://pandas.pydata.org/pandas-docs/stable/indexing.html#indexing-view-versus-copy\n",
      "  after removing the cwd from sys.path.\n"
     ]
    }
   ],
   "source": [
    "for i in range(0,20):\n",
    "    temp = domCii.iloc[i*35:(i+1)*35]\n",
    "    temp['Usage'] = int(np.mean(temp['Usage']))\n",
    "    temp['Timestep'] -= 7*i\n",
    "    sol = sol.append(temp.iloc[i*7:(i+1)*7])"
   ]
  },
  {
   "cell_type": "code",
   "execution_count": 115,
   "metadata": {},
   "outputs": [
    {
     "name": "stderr",
     "output_type": "stream",
     "text": [
      "/home/akul/.local/lib/python3.5/site-packages/ipykernel_launcher.py:3: SettingWithCopyWarning: \n",
      "A value is trying to be set on a copy of a slice from a DataFrame.\n",
      "Try using .loc[row_indexer,col_indexer] = value instead\n",
      "\n",
      "See the caveats in the documentation: http://pandas.pydata.org/pandas-docs/stable/indexing.html#indexing-view-versus-copy\n",
      "  This is separate from the ipykernel package so we can avoid doing imports until\n",
      "/home/akul/.local/lib/python3.5/site-packages/ipykernel_launcher.py:4: SettingWithCopyWarning: \n",
      "A value is trying to be set on a copy of a slice from a DataFrame.\n",
      "Try using .loc[row_indexer,col_indexer] = value instead\n",
      "\n",
      "See the caveats in the documentation: http://pandas.pydata.org/pandas-docs/stable/indexing.html#indexing-view-versus-copy\n",
      "  after removing the cwd from sys.path.\n"
     ]
    }
   ],
   "source": [
    "for i in range(0,20):\n",
    "    temp = domCi.iloc[i*35:(i+1)*35]\n",
    "    temp['Usage'] = int(np.mean(temp['Usage']))\n",
    "    temp['Timestep'] -= 7*i\n",
    "    sol = sol.append(temp.iloc[i*7:(i+1)*7])"
   ]
  },
  {
   "cell_type": "code",
   "execution_count": 116,
   "metadata": {},
   "outputs": [
    {
     "name": "stderr",
     "output_type": "stream",
     "text": [
      "/home/akul/.local/lib/python3.5/site-packages/ipykernel_launcher.py:3: SettingWithCopyWarning: \n",
      "A value is trying to be set on a copy of a slice from a DataFrame.\n",
      "Try using .loc[row_indexer,col_indexer] = value instead\n",
      "\n",
      "See the caveats in the documentation: http://pandas.pydata.org/pandas-docs/stable/indexing.html#indexing-view-versus-copy\n",
      "  This is separate from the ipykernel package so we can avoid doing imports until\n",
      "/home/akul/.local/lib/python3.5/site-packages/ipykernel_launcher.py:4: SettingWithCopyWarning: \n",
      "A value is trying to be set on a copy of a slice from a DataFrame.\n",
      "Try using .loc[row_indexer,col_indexer] = value instead\n",
      "\n",
      "See the caveats in the documentation: http://pandas.pydata.org/pandas-docs/stable/indexing.html#indexing-view-versus-copy\n",
      "  after removing the cwd from sys.path.\n"
     ]
    }
   ],
   "source": [
    "for i in range(0,50):\n",
    "    temp = domA.iloc[i*100:(i+1)*100]\n",
    "    temp['Usage'] = int(np.mean(temp['Usage']))\n",
    "    temp['Timestep'] -= 20*i\n",
    "    sol = sol.append(temp.iloc[i*20:(i+1)*20])"
   ]
  },
  {
   "cell_type": "code",
   "execution_count": 117,
   "metadata": {},
   "outputs": [
    {
     "name": "stdout",
     "output_type": "stream",
     "text": [
      "     Usage Timestep InventoryCode Domain\n",
      "0       55        1             0      B\n",
      "1       55        2             0      B\n",
      "2       55        3             0      B\n",
      "3       55        4             0      B\n",
      "4       55        5             0      B\n",
      "5       55        6             0      B\n",
      "6       55        7             0      B\n",
      "7       55        8             0      B\n",
      "8       55        9             0      B\n",
      "9       55       10             0      B\n",
      "10      55       11             0      B\n",
      "11      55       12             0      B\n",
      "12      55       13             0      B\n",
      "13      55       14             0      B\n",
      "14      55       15             0      B\n",
      "15      55       16             0      B\n",
      "16      55       17             0      B\n",
      "17      55       18             0      B\n",
      "18      55       19             0      B\n",
      "94      38        1             1      B\n",
      "95      38        2             1      B\n",
      "96      38        3             1      B\n",
      "97      38        4             1      B\n",
      "98      38        5             1      B\n",
      "99      38        6             1      B\n",
      "100     38        7             1      B\n",
      "101     38        8             1      B\n",
      "102     38        9             1      B\n",
      "103     38       10             1      B\n",
      "104     38       11             1      B\n",
      "...    ...      ...           ...    ...\n",
      "5520     5       11             3      A\n",
      "5521     5       12             3      A\n",
      "5522     5       13             3      A\n",
      "5523     5       14             3      A\n",
      "5524     5       15             3      A\n",
      "5525     5       16             3      A\n",
      "5526     5       17             3      A\n",
      "5527     5       18             3      A\n",
      "5528     5       19             3      A\n",
      "5529     5       20             3      A\n",
      "5630    22        1             4      A\n",
      "5631    22        2             4      A\n",
      "5632    22        3             4      A\n",
      "5633    22        4             4      A\n",
      "5634    22        5             4      A\n",
      "5635    22        6             4      A\n",
      "5636    22        7             4      A\n",
      "5637    22        8             4      A\n",
      "5638    22        9             4      A\n",
      "5639    22       10             4      A\n",
      "5640    22       11             4      A\n",
      "5641    22       12             4      A\n",
      "5642    22       13             4      A\n",
      "5643    22       14             4      A\n",
      "5644    22       15             4      A\n",
      "5645    22       16             4      A\n",
      "5646    22       17             4      A\n",
      "5647    22       18             4      A\n",
      "5648    22       19             4      A\n",
      "5649    22       20             4      A\n",
      "\n",
      "[245 rows x 4 columns]\n"
     ]
    }
   ],
   "source": [
    "print(sol)"
   ]
  },
  {
   "cell_type": "code",
   "execution_count": 118,
   "metadata": {},
   "outputs": [],
   "source": [
    "sol.to_csv('Submission02.csv', index = False)"
   ]
  },
  {
   "cell_type": "code",
   "execution_count": 7,
   "metadata": {},
   "outputs": [],
   "source": [
    "from sklearn.preprocessing import PolynomialFeatures\n",
    "from sklearn import linear_model"
   ]
  },
  {
   "cell_type": "code",
   "execution_count": null,
   "metadata": {},
   "outputs": [],
   "source": []
  },
  {
   "cell_type": "code",
   "execution_count": null,
   "metadata": {},
   "outputs": [],
   "source": []
  }
 ],
 "metadata": {
  "kernelspec": {
   "display_name": "Python 2",
   "language": "python",
   "name": "python2"
  },
  "language_info": {
   "codemirror_mode": {
    "name": "ipython",
    "version": 3
   },
   "file_extension": ".py",
   "mimetype": "text/x-python",
   "name": "python",
   "nbconvert_exporter": "python",
   "pygments_lexer": "ipython3",
   "version": "3.5.2"
  }
 },
 "nbformat": 4,
 "nbformat_minor": 2
}
